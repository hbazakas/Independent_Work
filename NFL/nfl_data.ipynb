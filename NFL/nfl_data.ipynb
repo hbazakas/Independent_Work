{
 "cells": [
  {
   "cell_type": "code",
   "execution_count": 1,
   "metadata": {},
   "outputs": [],
   "source": [
    "import pandas as pd\n"
   ]
  },
  {
   "cell_type": "code",
   "execution_count": 3,
   "metadata": {},
   "outputs": [
    {
     "name": "stderr",
     "output_type": "stream",
     "text": [
      "/Users/henrybazakas/opt/anaconda3/lib/python3.7/site-packages/IPython/core/interactiveshell.py:3058: DtypeWarning: Columns (47) have mixed types. Specify dtype option on import or set low_memory=False.\n",
      "  interactivity=interactivity, compiler=compiler, result=result)\n"
     ]
    }
   ],
   "source": [
    "nfl_data = pd.read_csv(\"nfl-big-data-bowl-2020/train.csv\")"
   ]
  },
  {
   "cell_type": "code",
   "execution_count": 5,
   "metadata": {},
   "outputs": [
    {
     "data": {
      "text/plain": [
       "Index(['GameId', 'PlayId', 'Team', 'X', 'Y', 'S', 'A', 'Dis', 'Orientation',\n",
       "       'Dir', 'NflId', 'DisplayName', 'JerseyNumber', 'Season', 'YardLine',\n",
       "       'Quarter', 'GameClock', 'PossessionTeam', 'Down', 'Distance',\n",
       "       'FieldPosition', 'HomeScoreBeforePlay', 'VisitorScoreBeforePlay',\n",
       "       'NflIdRusher', 'OffenseFormation', 'OffensePersonnel',\n",
       "       'DefendersInTheBox', 'DefensePersonnel', 'PlayDirection', 'TimeHandoff',\n",
       "       'TimeSnap', 'Yards', 'PlayerHeight', 'PlayerWeight', 'PlayerBirthDate',\n",
       "       'PlayerCollegeName', 'Position', 'HomeTeamAbbr', 'VisitorTeamAbbr',\n",
       "       'Week', 'Stadium', 'Location', 'StadiumType', 'Turf', 'GameWeather',\n",
       "       'Temperature', 'Humidity', 'WindSpeed', 'WindDirection'],\n",
       "      dtype='object')"
      ]
     },
     "execution_count": 5,
     "metadata": {},
     "output_type": "execute_result"
    }
   ],
   "source": [
    "nfl_data.columns"
   ]
  },
  {
   "cell_type": "code",
   "execution_count": 7,
   "metadata": {},
   "outputs": [
    {
     "data": {
      "text/html": [
       "<div>\n",
       "<style scoped>\n",
       "    .dataframe tbody tr th:only-of-type {\n",
       "        vertical-align: middle;\n",
       "    }\n",
       "\n",
       "    .dataframe tbody tr th {\n",
       "        vertical-align: top;\n",
       "    }\n",
       "\n",
       "    .dataframe thead th {\n",
       "        text-align: right;\n",
       "    }\n",
       "</style>\n",
       "<table border=\"1\" class=\"dataframe\">\n",
       "  <thead>\n",
       "    <tr style=\"text-align: right;\">\n",
       "      <th></th>\n",
       "      <th>OffenseFormation</th>\n",
       "      <th>OffensePersonnel</th>\n",
       "      <th>DefendersInTheBox</th>\n",
       "      <th>DefensePersonnel</th>\n",
       "    </tr>\n",
       "  </thead>\n",
       "  <tbody>\n",
       "    <tr>\n",
       "      <td>0</td>\n",
       "      <td>SHOTGUN</td>\n",
       "      <td>1 RB, 1 TE, 3 WR</td>\n",
       "      <td>6.0</td>\n",
       "      <td>2 DL, 3 LB, 6 DB</td>\n",
       "    </tr>\n",
       "    <tr>\n",
       "      <td>1</td>\n",
       "      <td>SHOTGUN</td>\n",
       "      <td>1 RB, 1 TE, 3 WR</td>\n",
       "      <td>6.0</td>\n",
       "      <td>2 DL, 3 LB, 6 DB</td>\n",
       "    </tr>\n",
       "    <tr>\n",
       "      <td>2</td>\n",
       "      <td>SHOTGUN</td>\n",
       "      <td>1 RB, 1 TE, 3 WR</td>\n",
       "      <td>6.0</td>\n",
       "      <td>2 DL, 3 LB, 6 DB</td>\n",
       "    </tr>\n",
       "    <tr>\n",
       "      <td>3</td>\n",
       "      <td>SHOTGUN</td>\n",
       "      <td>1 RB, 1 TE, 3 WR</td>\n",
       "      <td>6.0</td>\n",
       "      <td>2 DL, 3 LB, 6 DB</td>\n",
       "    </tr>\n",
       "    <tr>\n",
       "      <td>4</td>\n",
       "      <td>SHOTGUN</td>\n",
       "      <td>1 RB, 1 TE, 3 WR</td>\n",
       "      <td>6.0</td>\n",
       "      <td>2 DL, 3 LB, 6 DB</td>\n",
       "    </tr>\n",
       "    <tr>\n",
       "      <td>...</td>\n",
       "      <td>...</td>\n",
       "      <td>...</td>\n",
       "      <td>...</td>\n",
       "      <td>...</td>\n",
       "    </tr>\n",
       "    <tr>\n",
       "      <td>682149</td>\n",
       "      <td>PISTOL</td>\n",
       "      <td>1 RB, 1 TE, 3 WR</td>\n",
       "      <td>6.0</td>\n",
       "      <td>3 DL, 3 LB, 5 DB</td>\n",
       "    </tr>\n",
       "    <tr>\n",
       "      <td>682150</td>\n",
       "      <td>PISTOL</td>\n",
       "      <td>1 RB, 1 TE, 3 WR</td>\n",
       "      <td>6.0</td>\n",
       "      <td>3 DL, 3 LB, 5 DB</td>\n",
       "    </tr>\n",
       "    <tr>\n",
       "      <td>682151</td>\n",
       "      <td>PISTOL</td>\n",
       "      <td>1 RB, 1 TE, 3 WR</td>\n",
       "      <td>6.0</td>\n",
       "      <td>3 DL, 3 LB, 5 DB</td>\n",
       "    </tr>\n",
       "    <tr>\n",
       "      <td>682152</td>\n",
       "      <td>PISTOL</td>\n",
       "      <td>1 RB, 1 TE, 3 WR</td>\n",
       "      <td>6.0</td>\n",
       "      <td>3 DL, 3 LB, 5 DB</td>\n",
       "    </tr>\n",
       "    <tr>\n",
       "      <td>682153</td>\n",
       "      <td>PISTOL</td>\n",
       "      <td>1 RB, 1 TE, 3 WR</td>\n",
       "      <td>6.0</td>\n",
       "      <td>3 DL, 3 LB, 5 DB</td>\n",
       "    </tr>\n",
       "  </tbody>\n",
       "</table>\n",
       "<p>682154 rows × 4 columns</p>\n",
       "</div>"
      ],
      "text/plain": [
       "       OffenseFormation  OffensePersonnel  DefendersInTheBox  DefensePersonnel\n",
       "0               SHOTGUN  1 RB, 1 TE, 3 WR                6.0  2 DL, 3 LB, 6 DB\n",
       "1               SHOTGUN  1 RB, 1 TE, 3 WR                6.0  2 DL, 3 LB, 6 DB\n",
       "2               SHOTGUN  1 RB, 1 TE, 3 WR                6.0  2 DL, 3 LB, 6 DB\n",
       "3               SHOTGUN  1 RB, 1 TE, 3 WR                6.0  2 DL, 3 LB, 6 DB\n",
       "4               SHOTGUN  1 RB, 1 TE, 3 WR                6.0  2 DL, 3 LB, 6 DB\n",
       "...                 ...               ...                ...               ...\n",
       "682149           PISTOL  1 RB, 1 TE, 3 WR                6.0  3 DL, 3 LB, 5 DB\n",
       "682150           PISTOL  1 RB, 1 TE, 3 WR                6.0  3 DL, 3 LB, 5 DB\n",
       "682151           PISTOL  1 RB, 1 TE, 3 WR                6.0  3 DL, 3 LB, 5 DB\n",
       "682152           PISTOL  1 RB, 1 TE, 3 WR                6.0  3 DL, 3 LB, 5 DB\n",
       "682153           PISTOL  1 RB, 1 TE, 3 WR                6.0  3 DL, 3 LB, 5 DB\n",
       "\n",
       "[682154 rows x 4 columns]"
      ]
     },
     "execution_count": 7,
     "metadata": {},
     "output_type": "execute_result"
    }
   ],
   "source": [
    "nfl_data[[\"OffenseFormation\", \"OffensePersonnel\", 'DefendersInTheBox', 'DefensePersonnel']]"
   ]
  },
  {
   "cell_type": "code",
   "execution_count": null,
   "metadata": {},
   "outputs": [],
   "source": []
  }
 ],
 "metadata": {
  "kernelspec": {
   "display_name": "Python 3",
   "language": "python",
   "name": "python3"
  },
  "language_info": {
   "codemirror_mode": {
    "name": "ipython",
    "version": 3
   },
   "file_extension": ".py",
   "mimetype": "text/x-python",
   "name": "python",
   "nbconvert_exporter": "python",
   "pygments_lexer": "ipython3",
   "version": "3.7.4"
  }
 },
 "nbformat": 4,
 "nbformat_minor": 2
}
