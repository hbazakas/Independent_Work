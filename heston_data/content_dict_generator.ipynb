{
 "cells": [
  {
   "cell_type": "markdown",
   "metadata": {},
   "source": [
    "# Content Dictionaries\n",
    "\n",
    "This notebook details the processes used to construct three different content dictionary versions.\n",
    "\n",
    "These can be used to look up molecular content found in ingredients by name. E.g. content_dict_presence[\"Kiwi] will list all compounds found in Kiwi, listed by content id. These content ID's can be tied back to names of compounds found in FooDB using __source_id_lookup()__ as shown at the bottom of theis notebook.\n",
    "\n",
    "Each of the three dictionaries offers slightly different information.\n",
    "\n",
    "1. __content_dict_weight.pkl__ lists all compounds found in each ingredient with their corresponding weights in mg/100g. It limits the scope of its output to compounds whose weight is included in FooDB's database.\n",
    "\n",
    "\n",
    "2. __content_dict_presence.pkl__ lists all compounds present in each ingredient. This dictionary does not concern itself with weights.\n",
    "\n",
    "\n",
    "3. __content_dict_complete.pkl__ lists all compounds found in each ingredient with their corresponding weights in mg/100g. Ingredients whose weight is unknown are given a value of 1e-13, to signify their presence in an unknown amount."
   ]
  },
  {
   "cell_type": "markdown",
   "metadata": {},
   "source": [
    "## Imports and Data\n",
    "\n",
    "Importing standard packages and loading in data.\n",
    "\n",
    "Dataset comes from FooDB (https://foodb.ca/). It consists of 5.1 million rows of information regarding the molecular compounds found in various common foods. This notebook outlines how to prepare dictionaries such that one can easily look up the molecular compounds found in each ingredient."
   ]
  },
  {
   "cell_type": "code",
   "execution_count": 51,
   "metadata": {},
   "outputs": [],
   "source": [
    "import pandas as pd\n",
    "import time\n",
    "import pickle"
   ]
  },
  {
   "cell_type": "code",
   "execution_count": 52,
   "metadata": {},
   "outputs": [],
   "source": [
    "def time_print(sec):\n",
    "    '''Used to time blocks and output result in a more readable way.'''\n",
    "    if sec>3600:\n",
    "        print(\"Segment took\",round(sec/3600,2),\"hour(s) to complete.\")\n",
    "    elif sec>60:\n",
    "        print(\"Segment took\",round(sec/60,2), \"minute(s) to complete.\")\n",
    "    else:\n",
    "        print(\"Segment took\",round(sec,2), \"second(s) to complete.\")"
   ]
  },
  {
   "cell_type": "code",
   "execution_count": 54,
   "metadata": {},
   "outputs": [
    {
     "name": "stdout",
     "output_type": "stream",
     "text": [
      "Segment took 23.87 second(s) to complete.\n"
     ]
    }
   ],
   "source": [
    "s_import = time.time()\n",
    "\n",
    "content = pd.read_csv(\"Content.csv\")\n",
    "content.shape\n",
    "\n",
    "e_import = time.time()\n",
    "t_import = e_import - s_import\n",
    "time_print(t_import)"
   ]
  },
  {
   "cell_type": "markdown",
   "metadata": {},
   "source": [
    "## 1. content_dict_weight.pkl\n",
    "\n",
    "__content_dict_weight__ restricts its view to ingredients whose units are in a known weight unit so that we can convert all compounds to grams. This greatly decreases the size of the dataset, from 5.1M rows to about 800,000."
   ]
  },
  {
   "cell_type": "code",
   "execution_count": 55,
   "metadata": {},
   "outputs": [
    {
     "name": "stdout",
     "output_type": "stream",
     "text": [
      "(803930, 26)\n",
      "Segment took 1.0 second(s) to complete.\n"
     ]
    }
   ],
   "source": [
    "s_2d = time.time()\n",
    "\n",
    "content_weight = content[(content.orig_unit == \"mg/100g\")| (content.orig_unit == \"mg/100 g\") | (content.orig_unit ==  \"mg/100 g freshweight\") | (content.orig_unit == \"mg/100 g fresh weight\")]\n",
    "print(content_weight.shape) #Clearly limiting to only ingredients with known weights cuts the size of our data immensely\n",
    "\n",
    "e_2d = time.time()\n",
    "t_2d = e_2d-s_2d\n",
    "time_print(t_2d)\n"
   ]
  },
  {
   "cell_type": "code",
   "execution_count": 64,
   "metadata": {},
   "outputs": [
    {
     "name": "stdout",
     "output_type": "stream",
     "text": [
      "1 loop(s) 0.015532970428466797\n",
      "100 loop(s) 0.04726767539978027\n",
      "1000 loop(s) 0.22136592864990234\n",
      "10000 loop(s) 1.8898768424987793\n",
      "20000 loop(s) 3.7163479328155518\n",
      "100000 loop(s) 18.018797874450684\n",
      "400000 loop(s) 68.46686100959778\n",
      "800000 loop(s) 135.59464979171753\n",
      "Segment took 2.27 minute(s) to complete.\n"
     ]
    }
   ],
   "source": [
    "s_2 = time.time()\n",
    "\n",
    "content_dict_weight = {}\n",
    "#for i in range(200):\n",
    "for i in range(content_weight.shape[0]):\n",
    "    row  = content_weight.iloc[i]\n",
    "    if row.orig_food_common_name in content_dict_weight.keys():\n",
    "        content_dict_weight[row.orig_food_common_name].append(\n",
    "            [row.source_id, row.standard_content])\n",
    "    else:\n",
    "        content_dict_weight[row.orig_food_common_name] = [[row.source_id, row.standard_content]]\n",
    "        \n",
    "    if i in [1,100,1000,10000,20000,100000,400000,800000]:\n",
    "        print(i, \"loop(s)\", time.time()-s_2)\n",
    "e_2 = time.time()\n",
    "t_2 = e_2-s_2\n",
    "time_print(t_2)"
   ]
  },
  {
   "cell_type": "code",
   "execution_count": 66,
   "metadata": {},
   "outputs": [],
   "source": [
    "import pickle\n",
    "with open('content_dict_weight.pkl', 'wb') as f:\n",
    "    pickle.dump(content_dict_weight, f, protocol=pickle.HIGHEST_PROTOCOL)"
   ]
  },
  {
   "cell_type": "markdown",
   "metadata": {},
   "source": [
    "## 2. content_dict_presence.pkl and 3. content_dict_complete.pkl  \n",
    "\n",
    "These two dictionaries both use the entirety of Content.csv. To avoid having to loop through it twice we will run them concurrently.\n",
    "\n",
    "* __content_dict_presence.pkl__ includes all compounds found in each ingredient but does not include their quantities.\n",
    "\n",
    "\n",
    "\n",
    "* __content_dict_complete.pkl__ uses weights when available and fills unavailable weights with a dummy value, 1e-13."
   ]
  },
  {
   "cell_type": "code",
   "execution_count": 59,
   "metadata": {},
   "outputs": [
    {
     "name": "stdout",
     "output_type": "stream",
     "text": [
      "(5145532, 26)\n",
      "Segment took 16.59 second(s) to complete.\n"
     ]
    }
   ],
   "source": [
    "s_3d = time.time()\n",
    "\n",
    "content_complete = content\n",
    "content_complete = content_complete.fillna(0.0000000000001)\n",
    "print(content_complete.shape)\n",
    "\n",
    "e_3d = time.time()\n",
    "t_3d = e_3d-s_3d\n",
    "time_print(t_3d)"
   ]
  },
  {
   "cell_type": "code",
   "execution_count": 69,
   "metadata": {},
   "outputs": [
    {
     "name": "stdout",
     "output_type": "stream",
     "text": [
      "1 loop(s) 0.10676980018615723\n",
      "100 loop(s) 0.12758708000183105\n",
      "1000 loop(s) 0.3014981746673584\n",
      "10000 loop(s) 1.9556689262390137\n",
      "50000 loop(s) 9.329163074493408\n",
      "100000 loop(s) 18.587740182876587\n",
      "500000 loop(s) 92.57575917243958\n",
      "1000000 loop(s) 186.80687403678894\n",
      "3000000 loop(s) 560.2382588386536\n",
      "5000000 loop(s) 931.9627001285553\n",
      "Segment took 15.98 minute(s) to complete.\n"
     ]
    }
   ],
   "source": [
    "s_3 = time.time()\n",
    "\n",
    "content_dict_presence = {}\n",
    "content_dict_complete = {}\n",
    "\n",
    "\n",
    "#for i in range(20000):\n",
    "for i in range(content_complete.shape[0]):\n",
    "    row  = content_complete.iloc[i]\n",
    "    if row.orig_food_common_name in content_dict_complete.keys():\n",
    "        content_dict_presence[row.orig_food_common_name].append(row.source_id)\n",
    "        content_dict_complete[row.orig_food_common_name].append(\n",
    "            [row.source_id, row.standard_content])\n",
    "    else:\n",
    "        content_dict_presence[row.orig_food_common_name] = [row.source_id]\n",
    "        content_dict_complete[row.orig_food_common_name] = [[row.source_id, row.standard_content]]\n",
    "\n",
    "        \n",
    "    if i in [1,100,1000,10000,50000, 100000, 500000, 1000000, 3000000, 5000000]:\n",
    "        print(i, \"loop(s)\", time.time()-s_3)\n",
    "e_3 = time.time()\n",
    "t_3 = e_3-s_3\n",
    "time_print(t_3)"
   ]
  },
  {
   "cell_type": "code",
   "execution_count": 71,
   "metadata": {},
   "outputs": [],
   "source": [
    "with open('content_dict_presence.pkl', 'wb') as f:\n",
    "    pickle.dump(content_dict_presence, f, protocol=pickle.HIGHEST_PROTOCOL)"
   ]
  },
  {
   "cell_type": "code",
   "execution_count": 72,
   "metadata": {},
   "outputs": [],
   "source": [
    "with open('content_dict_complete.pkl', 'wb') as f:\n",
    "    pickle.dump(content_dict_complete, f, protocol=pickle.HIGHEST_PROTOCOL)"
   ]
  },
  {
   "cell_type": "markdown",
   "metadata": {},
   "source": [
    "## Examples\n",
    "\n",
    "### Dictionary Comparison\n",
    "\n",
    "Below we provide examples of the information contained in each of the three dictionaries."
   ]
  },
  {
   "cell_type": "code",
   "execution_count": 87,
   "metadata": {},
   "outputs": [
    {
     "name": "stdout",
     "output_type": "stream",
     "text": [
      "content_dict_weight:\n",
      " 109 elements\n",
      " [[1, 1870.5], [1, 20500.0], [2, 733.5], [3, 55040.0], [446, 14.45], [465, 30.0], [474, 38.3], [484, 28.85], [556, 25.25], [565, 1.95], [570, 22.75], [574, 0.2], [787, 17.1], [1014, 0.4], [1131, 9500.0], [1161, 3.35], [1224, 21.1], [1946, 43.3], [2250, 7.2], [2257, 21.65], [2558, 67.75], [2593, 23.75], [2890, 7.2], [2942, 25.25], [3011, 3.65], [3243, 0.3], [3513, 2265.0], [3514, 30.65], [3516, 6.3], [3517, 0.01525], [3519, 26.3], [3521, 49.65], [3522, 662.5], [3524, 6.65], [3571, 6.47], [3572, 0.15], [3572, 0.17], [3576, 5.55], [3582, 0.0024], [3583, 0.212], [3599, 3.0], [3637, 1.45], [3654, 0.02535], [3714, 3.55], [3718, 1.2325], [3730, 1.75], [21594, 209.5], [3764, 0.02155], [3765, 0.441], [3767, 0.0014], [3771, 0.11], [3778, 3.2001], [3781, 0.001], [3784, 0.5135], [3787, 0.43825], [3790, 0.15275], [3909, 63.2], [3959, 0.45], [4005, 72.35], [4147, 134.0], [4182, 0.0108], [4189, 0.00485], [4190, 0.054000000000000006], [4687, 1.75], [5127, 3.3], [5368, 0.5], [5768, 0.3], [6299, 43.25], [8291, 0.15], [8323, 0.25], [8426, 0.15], [10041, 0.03], [10549, 450.0], [10583, 0.12], [10583, 0.13], [11678, 3.6], [11682, 173.3], [11827, 1770.0], [11859, 10.85], [11907, 16.05], [12002, 23.25], [12062, 0.165], [12062, 0.06], [12163, 0.1], [12167, 2.0], [12400, 27.35], [12465, 279.55], [12531, 5545.0], [12538, 70.0], [12566, 10.85], [12570, 116.25], [12686, 7.2], [12742, 28.85], [12801, 0.0115], [12804, 4.95], [12861, 50.55], [13393, 85250.0], [13401, 214.0], [13403, 0.0], [13447, 0.03245], [13639, 990.0], [14507, 0.011000000000000001], [14616, 3.8], [14708, 18.05], [15475, 0.27], [16258, 6.205], [16599, 0.05], [19148, 20.15], [21462, 3399.25]] \n",
      "\n",
      "\n",
      "content_dict_presence:\n",
      " 374 elements\n",
      " [1, 1, 2, 3, 374, 446, 465, 474, 484, 545, 556, 565, 570, 574, 633, 662, 662, 753, 787, 847, 866, 933, 933, 933, 958, 958, 958, 958, 1014, 1044, 1131, 1136, 1161, 1202, 1218, 1224, 1267, 1366, 1478, 1479, 1482, 1494, 1533, 1817, 1869, 1931, 1946, 2250, 2253, 2257, 2257, 2257, 2536, 2536, 2536, 2536, 2536, 2558, 2558, 2562, 2571, 2571, 2571, 2571, 2571, 2571, 2576, 2576, 2576, 2576, 2582, 2582, 2582, 2582, 2582, 2582, 2593, 2593, 2594, 2597, 2602, 2711, 2711, 2711, 2711, 2798, 2820, 2820, 2820, 2890, 2942, 2942, 3011, 3226, 3229, 3241, 3243, 3254, 3269, 3276, 3277, 3279, 3282, 3286, 3292, 3293, 3299, 3307, 3358, 3368, 3379, 3383, 3384, 3387, 3513, 3514, 3516, 3517, 3519, 3521, 3522, 3524, 3568, 3571, 3572, 3572, 3576, 3578, 3582, 3583, 3599, 3636, 3637, 3654, 3694, 3714, 3718, 3723, 3730, 21594, 3764, 3765, 3766, 3767, 3771, 3778, 3781, 3784, 3787, 3790, 3909, 3909, 3959, 3959, 3992, 4005, 4011, 4039, 4147, 4182, 4189, 4190, 4235, 4613, 4663, 4687, 5127, 5207, 5368, 5404, 5404, 5408, 5408, 5409, 5409, 5410, 5410, 5417, 5417, 5418, 5418, 5419, 5422, 5422, 5719, 5744, 5744, 5768, 6138, 6299, 6709, 6786, 6964, 7030, 7243, 7579, 8054, 8069, 8069, 8073, 8082, 8125, 8126, 8133, 8231, 8232, 8281, 8291, 8294, 8298, 8298, 8300, 8302, 8323, 8426, 8740, 8782, 9848, 10041, 10510, 10549, 10549, 10559, 10583, 10583, 10856, 11671, 11678, 11679, 11682, 11682, 11711, 11827, 11859, 11887, 11887, 11887, 11887, 11907, 11907, 11907, 11910, 11928, 12002, 12042, 12062, 12062, 12085, 12086, 12087, 12156, 12160, 12163, 12167, 12201, 12207, 12207, 12207, 12207, 12209, 12245, 12269, 12360, 12365, 12365, 12365, 12395, 12400, 12450, 12451, 12453, 12465, 12524, 12531, 12538, 12550, 12552, 12566, 12570, 12589, 12617, 12629, 12630, 12686, 12727, 12742, 12762, 12801, 12804, 12807, 12861, 13258, 13393, 13401, 13403, 13447, 13550, 13639, 13739, 13795, 13899, 14376, 14376, 14507, 14513, 14616, 14708, 14897, 14898, 14936, 14936, 15475, 15497, 15890, 16258, 16369, 16396, 16396, 16396, 16599, 16785, 17094, 17133, 17155, 17166, 17713, 17717, 17717, 17717, 17717, 18606, 19148, 19148, 19914, 19928, 19942, 19977, 20026, 20026, 20189, 21462, 23546, 23546, 446, 465, 474, 484, 556, 787, 1131, 1136, 1193, 1931, 1946, 2257, 3292, 8115, 8938, 12002, 12167, 12400, 12531, 12533, 12539, 12570, 12589, 12686, 12742, 14708, 15423, 24096, 30172, 30807, 12360] \n",
      "\n",
      "\n",
      "content_dict_complete:\n",
      " 374 elements\n",
      " [[1, 1870.5], [1, 20500.0], [2, 733.5], [3, 55040.0], [374, 1e-13], [446, 14.45], [465, 30.0], [474, 38.3], [484, 28.85], [545, 1e-13], [556, 25.25], [565, 1.95], [570, 22.75], [574, 0.2], [633, 1e-13], [662, 1e-13], [662, 1e-13], [753, 1e-13], [787, 17.1], [847, 1e-13], [866, 1e-13], [933, 1e-13], [933, 1e-13], [933, 1e-13], [958, 1e-13], [958, 1e-13], [958, 1e-13], [958, 1e-13], [1014, 0.4], [1044, 1e-13], [1131, 9500.0], [1136, 1e-13], [1161, 3.35], [1202, 1e-13], [1218, 1e-13], [1224, 21.1], [1267, 1e-13], [1366, 1e-13], [1478, 1e-13], [1479, 1e-13], [1482, 1e-13], [1494, 1e-13], [1533, 1e-13], [1817, 1e-13], [1869, 1e-13], [1931, 1e-13], [1946, 43.3], [2250, 7.2], [2253, 1e-13], [2257, 21.65], [2257, 1e-13], [2257, 1e-13], [2536, 1e-13], [2536, 1e-13], [2536, 1e-13], [2536, 1e-13], [2536, 1e-13], [2558, 67.75], [2558, 1e-13], [2562, 1e-13], [2571, 1e-13], [2571, 1e-13], [2571, 1e-13], [2571, 1e-13], [2571, 1e-13], [2571, 1e-13], [2576, 1e-13], [2576, 1e-13], [2576, 1e-13], [2576, 1e-13], [2582, 1e-13], [2582, 1e-13], [2582, 1e-13], [2582, 1e-13], [2582, 1e-13], [2582, 1e-13], [2593, 23.75], [2593, 1e-13], [2594, 1e-13], [2597, 1e-13], [2602, 1e-13], [2711, 1e-13], [2711, 1e-13], [2711, 1e-13], [2711, 1e-13], [2798, 1e-13], [2820, 1e-13], [2820, 1e-13], [2820, 1e-13], [2890, 7.2], [2942, 25.25], [2942, 1e-13], [3011, 3.65], [3226, 1e-13], [3229, 1e-13], [3241, 1e-13], [3243, 0.3], [3254, 1e-13], [3269, 1e-13], [3276, 1e-13], [3277, 1e-13], [3279, 1e-13], [3282, 1e-13], [3286, 1e-13], [3292, 1e-13], [3293, 1e-13], [3299, 1e-13], [3307, 1e-13], [3358, 1e-13], [3368, 1e-13], [3379, 1e-13], [3383, 1e-13], [3384, 1e-13], [3387, 1e-13], [3513, 2265.0], [3514, 30.65], [3516, 6.3], [3517, 0.01525], [3519, 26.3], [3521, 49.65], [3522, 662.5], [3524, 6.65], [3568, 1e-13], [3571, 6.47], [3572, 0.15], [3572, 0.17], [3576, 5.55], [3578, 1e-13], [3582, 0.0024], [3583, 0.212], [3599, 3.0], [3636, 1e-13], [3637, 1.45], [3654, 0.02535], [3694, 1e-13], [3714, 3.55], [3718, 1.2325], [3723, 1e-13], [3730, 1.75], [21594, 209.5], [3764, 0.02155], [3765, 0.441], [3766, 1e-13], [3767, 0.0014], [3771, 0.11], [3778, 3.2001], [3781, 0.001], [3784, 0.5135], [3787, 0.43825], [3790, 0.15275], [3909, 1e-13], [3909, 63.2], [3959, 1e-13], [3959, 0.45], [3992, 1e-13], [4005, 72.35], [4011, 1e-13], [4039, 1e-13], [4147, 134.0], [4182, 0.0108], [4189, 0.00485], [4190, 0.054000000000000006], [4235, 1e-13], [4613, 1e-13], [4663, 1e-13], [4687, 1.75], [5127, 3.3], [5207, 1e-13], [5368, 0.5], [5404, 1e-13], [5404, 1e-13], [5408, 1e-13], [5408, 1e-13], [5409, 1e-13], [5409, 1e-13], [5410, 1e-13], [5410, 1e-13], [5417, 1e-13], [5417, 1e-13], [5418, 1e-13], [5418, 1e-13], [5419, 1e-13], [5422, 1e-13], [5422, 1e-13], [5719, 1e-13], [5744, 1e-13], [5744, 1e-13], [5768, 0.3], [6138, 1e-13], [6299, 43.25], [6709, 1e-13], [6786, 1e-13], [6964, 1e-13], [7030, 1e-13], [7243, 1e-13], [7579, 1e-13], [8054, 1e-13], [8069, 1e-13], [8069, 1e-13], [8073, 1e-13], [8082, 1e-13], [8125, 1e-13], [8126, 1e-13], [8133, 1e-13], [8231, 1e-13], [8232, 1e-13], [8281, 1e-13], [8291, 0.15], [8294, 1e-13], [8298, 1e-13], [8298, 1e-13], [8300, 1e-13], [8302, 1e-13], [8323, 0.25], [8426, 0.15], [8740, 1e-13], [8782, 1e-13], [9848, 1e-13], [10041, 0.03], [10510, 1e-13], [10549, 1e-13], [10549, 450.0], [10559, 1e-13], [10583, 0.12], [10583, 0.13], [10856, 1e-13], [11671, 1e-13], [11678, 3.6], [11679, 1e-13], [11682, 173.3], [11682, 1e-13], [11711, 1e-13], [11827, 1770.0], [11859, 10.85], [11887, 1e-13], [11887, 1e-13], [11887, 1e-13], [11887, 1e-13], [11907, 1e-13], [11907, 1e-13], [11907, 16.05], [11910, 1e-13], [11928, 1e-13], [12002, 23.25], [12042, 1e-13], [12062, 0.165], [12062, 0.06], [12085, 1e-13], [12086, 1e-13], [12087, 1e-13], [12156, 1e-13], [12160, 1e-13], [12163, 0.1], [12167, 2.0], [12201, 1e-13], [12207, 1e-13], [12207, 1e-13], [12207, 1e-13], [12207, 1e-13], [12209, 1e-13], [12245, 1e-13], [12269, 1e-13], [12360, 1e-13], [12365, 1e-13], [12365, 1e-13], [12365, 1e-13], [12395, 1e-13], [12400, 27.35], [12450, 1e-13], [12451, 1e-13], [12453, 1e-13], [12465, 279.55], [12524, 1e-13], [12531, 5545.0], [12538, 70.0], [12550, 1e-13], [12552, 1e-13], [12566, 10.85], [12570, 116.25], [12589, 1e-13], [12617, 1e-13], [12629, 1e-13], [12630, 1e-13], [12686, 7.2], [12727, 1e-13], [12742, 28.85], [12762, 1e-13], [12801, 0.0115], [12804, 4.95], [12807, 1e-13], [12861, 50.55], [13258, 1e-13], [13393, 85250.0], [13401, 214.0], [13403, 0.0], [13447, 0.03245], [13550, 1e-13], [13639, 990.0], [13739, 1e-13], [13795, 1e-13], [13899, 1e-13], [14376, 1e-13], [14376, 1e-13], [14507, 0.011000000000000001], [14513, 1e-13], [14616, 3.8], [14708, 18.05], [14897, 1e-13], [14898, 1e-13], [14936, 1e-13], [14936, 1e-13], [15475, 0.27], [15497, 1e-13], [15890, 1e-13], [16258, 6.205], [16369, 1e-13], [16396, 1e-13], [16396, 1e-13], [16396, 1e-13], [16599, 0.05], [16785, 1e-13], [17094, 1e-13], [17133, 1e-13], [17155, 1e-13], [17166, 1e-13], [17713, 1e-13], [17717, 1e-13], [17717, 1e-13], [17717, 1e-13], [17717, 1e-13], [18606, 1e-13], [19148, 20.15], [19148, 1e-13], [19914, 1e-13], [19928, 1e-13], [19942, 1e-13], [19977, 1e-13], [20026, 1e-13], [20026, 1e-13], [20189, 1e-13], [21462, 3399.25], [23546, 1e-13], [23546, 1e-13], [446, 1e-13], [465, 1e-13], [474, 1e-13], [484, 1e-13], [556, 1e-13], [787, 1e-13], [1131, 1e-13], [1136, 1e-13], [1193, 1e-13], [1931, 1e-13], [1946, 1e-13], [2257, 1e-13], [3292, 1e-13], [8115, 1e-13], [8938, 1e-13], [12002, 1e-13], [12167, 1e-13], [12400, 1e-13], [12531, 1e-13], [12533, 1e-13], [12539, 1e-13], [12570, 1e-13], [12589, 1e-13], [12686, 1e-13], [12742, 1e-13], [14708, 1e-13], [15423, 1e-13], [24096, 1e-13], [30172, 1e-13], [30807, 1e-13], [12360, 0.0022]]\n"
     ]
    }
   ],
   "source": [
    "def compare_dictionaries(ingredient):\n",
    "    print(\"content_dict_weight:\\n\", \n",
    "          len(content_dict_weight[ingredient]),\"elements\\n\",\n",
    "          content_dict_weight[ingredient],\"\\n\\n\")\n",
    "    print(\"content_dict_presence:\\n\", \n",
    "          len(content_dict_presence[ingredient]),\"elements\\n\",\n",
    "          content_dict_presence[ingredient],\"\\n\\n\")\n",
    "    print(\"content_dict_complete:\\n\", \n",
    "          len(content_dict_complete[ingredient]),\"elements\\n\",\n",
    "          content_dict_complete[ingredient])\n",
    "    \n",
    "\n",
    "compare_dictionaries(\"Apple\")"
   ]
  },
  {
   "cell_type": "markdown",
   "metadata": {},
   "source": [
    "### source_id Lookup\n",
    "\n",
    "The dictionaries above identify molecular compounds in food by their source_id, as is used in FooDB's Content.csv\n",
    "\n",
    "The function below can be used to look up the common names used for that source_id. Please note that it is very common to see multiple variations on the same name listed. This is why we chose to aggregate on source_id rather than on orig_source_name."
   ]
  },
  {
   "cell_type": "code",
   "execution_count": 89,
   "metadata": {},
   "outputs": [],
   "source": [
    "def source_id_lookup(source_id):\n",
    "    return content[content.source_id==source_id].orig_source_name.unique()"
   ]
  },
  {
   "cell_type": "code",
   "execution_count": 95,
   "metadata": {},
   "outputs": [
    {
     "data": {
      "text/plain": [
       "array(['Apigenin 7-O-glucoside', 'APIGETRIN', '7-GLUCOSYL-APIGENIN',\n",
       "       'APIGENIN-7-GLUCOSIDE|APIGETRIN|COSMOSIIN', 'COSMOSIIN',\n",
       "       'APIGENIN-7-O-BETA-D-GLUCOSIDE', 'APIGENIN-7-GLUCOSIDE',\n",
       "       'APIGENIN-7-O-BETA-D-GLUCOSIDE|COSMOSIIN',\n",
       "       'APIGENIN-7-BETA-D-GLUCOPYRANOSIDE', 'APIGENIN-7-O-GLUCOSIDE',\n",
       "       'Cosmosiin', nan], dtype=object)"
      ]
     },
     "execution_count": 95,
     "metadata": {},
     "output_type": "execute_result"
    }
   ],
   "source": [
    "source_id_lookup(16369)"
   ]
  },
  {
   "cell_type": "code",
   "execution_count": null,
   "metadata": {},
   "outputs": [],
   "source": []
  }
 ],
 "metadata": {
  "kernelspec": {
   "display_name": "Python 3",
   "language": "python",
   "name": "python3"
  },
  "language_info": {
   "codemirror_mode": {
    "name": "ipython",
    "version": 3
   },
   "file_extension": ".py",
   "mimetype": "text/x-python",
   "name": "python",
   "nbconvert_exporter": "python",
   "pygments_lexer": "ipython3",
   "version": "3.7.4"
  }
 },
 "nbformat": 4,
 "nbformat_minor": 2
}
