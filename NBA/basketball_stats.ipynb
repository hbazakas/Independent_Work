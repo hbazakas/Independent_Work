{
 "cells": [
  {
   "cell_type": "code",
   "execution_count": 1,
   "metadata": {},
   "outputs": [],
   "source": [
    "import pandas as pd\n",
    "import matplotlib.pyplot as plt"
   ]
  },
  {
   "cell_type": "code",
   "execution_count": 3,
   "metadata": {},
   "outputs": [],
   "source": [
    "bball_data = pd.read_csv(\"players_stats_by_season_full_details.csv\")"
   ]
  },
  {
   "cell_type": "code",
   "execution_count": 63,
   "metadata": {},
   "outputs": [
    {
     "data": {
      "text/plain": [
       "0              Kevin Durant\n",
       "1              LeBron James\n",
       "2               Dwyane Wade\n",
       "3             Dirk Nowitzki\n",
       "4               Kobe Bryant\n",
       "                ...        \n",
       "36945        Klym Artamonov\n",
       "36946         Nicola Spasic\n",
       "36947      Volodymyr Koniev\n",
       "36948      Oleksandr Kobets\n",
       "36949    Leonid Stefanishin\n",
       "Name: Player, Length: 36950, dtype: object"
      ]
     },
     "execution_count": 63,
     "metadata": {},
     "output_type": "execute_result"
    }
   ],
   "source": [
    "bball_data.Player"
   ]
  },
  {
   "cell_type": "code",
   "execution_count": 17,
   "metadata": {},
   "outputs": [
    {
     "data": {
      "text/plain": [
       "Index(['League', 'Season', 'Stage', 'Player', 'Team', 'GP', 'MIN', 'FGM',\n",
       "       'FGA', '3PM', '3PA', 'FTM', 'FTA', 'TOV', 'PF', 'ORB', 'DRB', 'REB',\n",
       "       'AST', 'STL', 'BLK', 'PTS', 'birth_year', 'birth_month', 'birth_date',\n",
       "       'height', 'height_cm', 'weight', 'weight_kg', 'nationality',\n",
       "       'high_school'],\n",
       "      dtype='object')"
      ]
     },
     "execution_count": 17,
     "metadata": {},
     "output_type": "execute_result"
    }
   ],
   "source": [
    "bball_data.columns\n"
   ]
  },
  {
   "cell_type": "code",
   "execution_count": 73,
   "metadata": {},
   "outputs": [],
   "source": [
    "\n",
    "#stats.index\n",
    "\n",
    "def decade_per_game(player):\n",
    "    stats = bball_data.groupby(by = \"Player\").sum()\n",
    "    games_played = int(stats[stats.index == player].GP)\n",
    "    stats_pg = stats[stats.index == player]/games_played\n",
    "    stats_pg = stats_pg[['MIN', 'FGM', 'FGA', '3PM', '3PA', 'FTM', 'FTA', 'TOV', 'PF',\n",
    "       'ORB', 'DRB', 'REB', 'AST', 'STL', 'BLK', 'PTS']]\n",
    "    stats_pg[\"FG%\"] = stats_pg.FGM/stats_pg.FGA\n",
    "    stats_pg[\"3P%\"] = stats_pg['3PM']/stats_pg['3PA']\n",
    "    stats_pg[\"FT%\"] = stats_pg.FTM/stats_pg.FTA\n",
    "    stats_pg = round(stats_pg, 3)\n",
    "    return stats_pg\n",
    "    "
   ]
  },
  {
   "cell_type": "code",
   "execution_count": 74,
   "metadata": {},
   "outputs": [
    {
     "data": {
      "text/html": [
       "<div>\n",
       "<style scoped>\n",
       "    .dataframe tbody tr th:only-of-type {\n",
       "        vertical-align: middle;\n",
       "    }\n",
       "\n",
       "    .dataframe tbody tr th {\n",
       "        vertical-align: top;\n",
       "    }\n",
       "\n",
       "    .dataframe thead th {\n",
       "        text-align: right;\n",
       "    }\n",
       "</style>\n",
       "<table border=\"1\" class=\"dataframe\">\n",
       "  <thead>\n",
       "    <tr style=\"text-align: right;\">\n",
       "      <th></th>\n",
       "      <th>MIN</th>\n",
       "      <th>FGM</th>\n",
       "      <th>FGA</th>\n",
       "      <th>3PM</th>\n",
       "      <th>3PA</th>\n",
       "      <th>FTM</th>\n",
       "      <th>FTA</th>\n",
       "      <th>TOV</th>\n",
       "      <th>PF</th>\n",
       "      <th>ORB</th>\n",
       "      <th>DRB</th>\n",
       "      <th>REB</th>\n",
       "      <th>AST</th>\n",
       "      <th>STL</th>\n",
       "      <th>BLK</th>\n",
       "      <th>PTS</th>\n",
       "      <th>FG%</th>\n",
       "      <th>3P%</th>\n",
       "      <th>FT%</th>\n",
       "    </tr>\n",
       "    <tr>\n",
       "      <th>Player</th>\n",
       "      <th></th>\n",
       "      <th></th>\n",
       "      <th></th>\n",
       "      <th></th>\n",
       "      <th></th>\n",
       "      <th></th>\n",
       "      <th></th>\n",
       "      <th></th>\n",
       "      <th></th>\n",
       "      <th></th>\n",
       "      <th></th>\n",
       "      <th></th>\n",
       "      <th></th>\n",
       "      <th></th>\n",
       "      <th></th>\n",
       "      <th></th>\n",
       "      <th></th>\n",
       "      <th></th>\n",
       "      <th></th>\n",
       "    </tr>\n",
       "  </thead>\n",
       "  <tbody>\n",
       "    <tr>\n",
       "      <td>Kevin Durant</td>\n",
       "      <td>37.591</td>\n",
       "      <td>9.53</td>\n",
       "      <td>19.217</td>\n",
       "      <td>2.05</td>\n",
       "      <td>5.44</td>\n",
       "      <td>7.145</td>\n",
       "      <td>8.098</td>\n",
       "      <td>3.172</td>\n",
       "      <td>2.064</td>\n",
       "      <td>0.704</td>\n",
       "      <td>6.799</td>\n",
       "      <td>7.503</td>\n",
       "      <td>4.382</td>\n",
       "      <td>1.102</td>\n",
       "      <td>1.178</td>\n",
       "      <td>28.255</td>\n",
       "      <td>0.496</td>\n",
       "      <td>0.377</td>\n",
       "      <td>0.882</td>\n",
       "    </tr>\n",
       "  </tbody>\n",
       "</table>\n",
       "</div>"
      ],
      "text/plain": [
       "                 MIN   FGM     FGA   3PM   3PA    FTM    FTA    TOV     PF  \\\n",
       "Player                                                                       \n",
       "Kevin Durant  37.591  9.53  19.217  2.05  5.44  7.145  8.098  3.172  2.064   \n",
       "\n",
       "                ORB    DRB    REB    AST    STL    BLK     PTS    FG%    3P%  \\\n",
       "Player                                                                         \n",
       "Kevin Durant  0.704  6.799  7.503  4.382  1.102  1.178  28.255  0.496  0.377   \n",
       "\n",
       "                FT%  \n",
       "Player               \n",
       "Kevin Durant  0.882  "
      ]
     },
     "execution_count": 74,
     "metadata": {},
     "output_type": "execute_result"
    }
   ],
   "source": [
    "decade_per_game(\"Kevin Durant\")"
   ]
  },
  {
   "cell_type": "code",
   "execution_count": 75,
   "metadata": {},
   "outputs": [
    {
     "data": {
      "text/html": [
       "<div>\n",
       "<style scoped>\n",
       "    .dataframe tbody tr th:only-of-type {\n",
       "        vertical-align: middle;\n",
       "    }\n",
       "\n",
       "    .dataframe tbody tr th {\n",
       "        vertical-align: top;\n",
       "    }\n",
       "\n",
       "    .dataframe thead th {\n",
       "        text-align: right;\n",
       "    }\n",
       "</style>\n",
       "<table border=\"1\" class=\"dataframe\">\n",
       "  <thead>\n",
       "    <tr style=\"text-align: right;\">\n",
       "      <th></th>\n",
       "      <th>MIN</th>\n",
       "      <th>FGM</th>\n",
       "      <th>FGA</th>\n",
       "      <th>3PM</th>\n",
       "      <th>3PA</th>\n",
       "      <th>FTM</th>\n",
       "      <th>FTA</th>\n",
       "      <th>TOV</th>\n",
       "      <th>PF</th>\n",
       "      <th>ORB</th>\n",
       "      <th>DRB</th>\n",
       "      <th>REB</th>\n",
       "      <th>AST</th>\n",
       "      <th>STL</th>\n",
       "      <th>BLK</th>\n",
       "      <th>PTS</th>\n",
       "      <th>FG%</th>\n",
       "      <th>3P%</th>\n",
       "      <th>FT%</th>\n",
       "    </tr>\n",
       "    <tr>\n",
       "      <th>Player</th>\n",
       "      <th></th>\n",
       "      <th></th>\n",
       "      <th></th>\n",
       "      <th></th>\n",
       "      <th></th>\n",
       "      <th></th>\n",
       "      <th></th>\n",
       "      <th></th>\n",
       "      <th></th>\n",
       "      <th></th>\n",
       "      <th></th>\n",
       "      <th></th>\n",
       "      <th></th>\n",
       "      <th></th>\n",
       "      <th></th>\n",
       "      <th></th>\n",
       "      <th></th>\n",
       "      <th></th>\n",
       "      <th></th>\n",
       "    </tr>\n",
       "  </thead>\n",
       "  <tbody>\n",
       "    <tr>\n",
       "      <td>LeBron James</td>\n",
       "      <td>38.138</td>\n",
       "      <td>10.015</td>\n",
       "      <td>19.133</td>\n",
       "      <td>1.512</td>\n",
       "      <td>4.307</td>\n",
       "      <td>5.75</td>\n",
       "      <td>7.81</td>\n",
       "      <td>3.608</td>\n",
       "      <td>1.854</td>\n",
       "      <td>1.236</td>\n",
       "      <td>6.718</td>\n",
       "      <td>7.955</td>\n",
       "      <td>7.463</td>\n",
       "      <td>1.578</td>\n",
       "      <td>0.775</td>\n",
       "      <td>27.293</td>\n",
       "      <td>0.523</td>\n",
       "      <td>0.351</td>\n",
       "      <td>0.736</td>\n",
       "    </tr>\n",
       "  </tbody>\n",
       "</table>\n",
       "</div>"
      ],
      "text/plain": [
       "                 MIN     FGM     FGA    3PM    3PA   FTM   FTA    TOV     PF  \\\n",
       "Player                                                                         \n",
       "LeBron James  38.138  10.015  19.133  1.512  4.307  5.75  7.81  3.608  1.854   \n",
       "\n",
       "                ORB    DRB    REB    AST    STL    BLK     PTS    FG%    3P%  \\\n",
       "Player                                                                         \n",
       "LeBron James  1.236  6.718  7.955  7.463  1.578  0.775  27.293  0.523  0.351   \n",
       "\n",
       "                FT%  \n",
       "Player               \n",
       "LeBron James  0.736  "
      ]
     },
     "execution_count": 75,
     "metadata": {},
     "output_type": "execute_result"
    }
   ],
   "source": [
    "decade_per_game(\"LeBron James\")"
   ]
  },
  {
   "cell_type": "code",
   "execution_count": null,
   "metadata": {},
   "outputs": [],
   "source": []
  },
  {
   "cell_type": "code",
   "execution_count": null,
   "metadata": {},
   "outputs": [],
   "source": []
  }
 ],
 "metadata": {
  "kernelspec": {
   "display_name": "Python 3",
   "language": "python",
   "name": "python3"
  },
  "language_info": {
   "codemirror_mode": {
    "name": "ipython",
    "version": 3
   },
   "file_extension": ".py",
   "mimetype": "text/x-python",
   "name": "python",
   "nbconvert_exporter": "python",
   "pygments_lexer": "ipython3",
   "version": "3.7.4"
  }
 },
 "nbformat": 4,
 "nbformat_minor": 2
}
